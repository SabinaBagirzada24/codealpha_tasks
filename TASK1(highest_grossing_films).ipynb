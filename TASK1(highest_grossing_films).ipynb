{
 "cells": [
  {
   "cell_type": "markdown",
   "id": "c40d37b6-45b5-4b4b-86bb-f4453a003dc1",
   "metadata": {},
   "source": [
    "# TASK 1: WEB SCRAPING – The data has been tabulated, cleaned, and prepared for Exploratory Data Analysis (EDA)."
   ]
  },
  {
   "cell_type": "code",
   "execution_count": 2,
   "id": "b0a72f32-deec-4bef-9051-787f37b5f68b",
   "metadata": {},
   "outputs": [],
   "source": [
    "import requests\n",
    "from bs4 import BeautifulSoup\n",
    "import csv\n",
    "import pandas as pd\n",
    "import sqlite3\n",
    "import re"
   ]
  },
  {
   "cell_type": "code",
   "execution_count": 4,
   "id": "1495d052-b733-4524-a028-fce9d63a44ea",
   "metadata": {},
   "outputs": [],
   "source": [
    "def get_html(url):\n",
    "    headers = {\"User-Agent\": \"Mozilla/5.0\"}\n",
    "    response = requests.get(url, headers=headers)\n",
    "    if response.status_code == 200:\n",
    "        return response.text\n",
    "    else:\n",
    "        raise Exception(f\"Sayta daxil olunmadı: Status kodu {response.status_code}\")"
   ]
  },
  {
   "cell_type": "code",
   "execution_count": 6,
   "id": "b2f0911b-a0b8-4868-b226-92b11443afb1",
   "metadata": {},
   "outputs": [],
   "source": [
    "def parse_table(html):\n",
    "    soup = BeautifulSoup(html, \"html.parser\")\n",
    "    table = soup.find(\"table\", class_=\"wikitable\")\n",
    "    if table is None:\n",
    "        raise ValueError(\"Cədvəl tapılmadı. HTML quruluşu dəyişmiş ola bilər.\")\n",
    "\n",
    "    rows = table.find_all(\"tr\")\n",
    "    data = []\n",
    "\n",
    "    for row in rows[1:]:\n",
    "        cols = row.find_all([\"th\", \"td\"])\n",
    "        if len(cols) >= 5:\n",
    "            try:\n",
    "                rank = cols[0].text.strip()\n",
    "                film = cols[1].text.strip()\n",
    "                year = cols[2].text.strip()\n",
    "                gross = cols[3].text.strip()\n",
    "                distributor = cols[4].text.strip()\n",
    "                data.append([rank, film, year, gross, distributor])\n",
    "            except IndexError:\n",
    "                continue\n",
    "    return data\n"
   ]
  },
  {
   "cell_type": "code",
   "execution_count": 8,
   "id": "b993b4b0-00fe-452d-8129-5d3310e7d7a7",
   "metadata": {},
   "outputs": [],
   "source": [
    "def get_html(url):\n",
    "    headers = {\"User-Agent\": \"Mozilla/5.0\"}\n",
    "    response = requests.get(url, headers=headers)\n",
    "    if response.status_code == 200:\n",
    "        return response.text\n",
    "    else:\n",
    "        raise Exception(f\"Sayta daxil olunmadı: Status kodu {response.status_code}\")"
   ]
  },
  {
   "cell_type": "code",
   "execution_count": 10,
   "id": "f480fbc0-5c6b-4efb-b95e-fb8865ce8619",
   "metadata": {},
   "outputs": [],
   "source": [
    "def parse_table(html):\n",
    "    soup = BeautifulSoup(html, \"html.parser\")\n",
    "    table = soup.find(\"table\", class_=\"wikitable\")\n",
    "    if table is None:\n",
    "        raise ValueError(\"Cədvəl tapılmadı. HTML quruluşu dəyişmiş ola bilər.\")\n",
    "\n",
    "    rows = table.find_all(\"tr\")\n",
    "    data = []\n",
    "\n",
    "    for row in rows[1:]:\n",
    "        cols = row.find_all([\"th\", \"td\"])\n",
    "        if len(cols) >= 5:\n",
    "            try:\n",
    "                rank = cols[0].text.strip()\n",
    "                film = cols[1].text.strip()\n",
    "                year = cols[2].text.strip()\n",
    "                gross = cols[3].text.strip()\n",
    "                distributor = cols[4].text.strip()\n",
    "                data.append([rank, film, year, gross, distributor])\n",
    "            except IndexError:\n",
    "                continue\n",
    "    return data"
   ]
  },
  {
   "cell_type": "code",
   "execution_count": 12,
   "id": "baa4dee8-0dd7-4860-a8e1-d5419efb3c87",
   "metadata": {},
   "outputs": [],
   "source": [
    "def save_to_csv(data, filename):\n",
    "    with open(filename, \"w\", newline=\"\", encoding=\"utf-8\") as f:\n",
    "        writer = csv.writer(f)\n",
    "        writer.writerow([\"Rank\", \"Film\", \"Year\", \"Gross\", \"Distributor\"])\n",
    "        writer.writerows(data)"
   ]
  },
  {
   "cell_type": "code",
   "execution_count": 14,
   "id": "9a12edc1-5972-4e97-b4b0-b72497ac175e",
   "metadata": {},
   "outputs": [],
   "source": [
    "def clean_dataframe(df):\n",
    "    df.dropna(subset=[\"Film\", \"Gross\"], inplace=True)\n",
    "\n",
    "    # Clean the Gross column by removing symbols and converting it to a numeric type\n",
    "    df[\"Gross\"] = (\n",
    "        df[\"Gross\"]\n",
    "        .astype(str)\n",
    "        .str.replace(r\"[^0-9.]\", \"\", regex=True)\n",
    "        .replace(\"\", None)\n",
    "        .astype(float)\n",
    "    )\n",
    "\n",
    "    # Clean the movie titles\n",
    "    df[\"Film\"] = (\n",
    "        df[\"Film\"]\n",
    "        .astype(str)\n",
    "        .str.replace(r\"[\\u2020\\$SMT]+\", \"\", regex=True)\n",
    "        .str.strip()\n",
    "    )\n",
    "\n",
    "    # Extract the year from the date and convert it to an integer\n",
    "    df[\"Year\"] = (\n",
    "        df[\"Year\"]\n",
    "        .astype(str)\n",
    "        .str.extract(r\"(\\d{4})\")\n",
    "        .astype(float)\n",
    "        .astype(\"Int64\")\n",
    "    )\n",
    "\n",
    "    # Clean the Distributor names\n",
    "    df[\"Distributor\"] = df[\"Distributor\"].astype(str).str.strip()\n",
    "\n",
    "    return df\n"
   ]
  },
  {
   "cell_type": "code",
   "execution_count": 16,
   "id": "b13b98ef-32e3-44a7-9406-c17e11013481",
   "metadata": {},
   "outputs": [],
   "source": [
    "def save_to_sqlite(df, db_name):\n",
    "    conn = sqlite3.connect(db_name)\n",
    "    df.to_sql(\"films\", conn, if_exists=\"replace\", index=False)\n",
    "    conn.close()"
   ]
  },
  {
   "cell_type": "code",
   "execution_count": 18,
   "id": "8ac518d7-78fc-46e9-8a03-90325718e213",
   "metadata": {},
   "outputs": [],
   "source": [
    "def main():\n",
    "    url = \"https://en.wikipedia.org/wiki/List_of_highest-grossing_films\"\n",
    "    html = get_html(url)\n",
    "    data = parse_table(html)\n",
    "    csv_file = \"highest_grossing_films.csv\"\n",
    "    save_to_csv(data, csv_file)\n",
    "\n",
    "    df = pd.read_csv(csv_file)\n",
    "    df = clean_dataframe(df)\n",
    "    save_to_sqlite(df, \"films.db\")\n",
    "    print(df.head())"
   ]
  },
  {
   "cell_type": "code",
   "execution_count": 20,
   "id": "ebcc8ddf-f320-4414-ad16-1b35a7d9cda5",
   "metadata": {},
   "outputs": [
    {
     "data": {
      "text/html": [
       "<div>\n",
       "<style scoped>\n",
       "    .dataframe tbody tr th:only-of-type {\n",
       "        vertical-align: middle;\n",
       "    }\n",
       "\n",
       "    .dataframe tbody tr th {\n",
       "        vertical-align: top;\n",
       "    }\n",
       "\n",
       "    .dataframe thead th {\n",
       "        text-align: right;\n",
       "    }\n",
       "</style>\n",
       "<table border=\"1\" class=\"dataframe\">\n",
       "  <thead>\n",
       "    <tr style=\"text-align: right;\">\n",
       "      <th></th>\n",
       "      <th>Rank</th>\n",
       "      <th>Film</th>\n",
       "      <th>Gross</th>\n",
       "      <th>Distributor</th>\n",
       "    </tr>\n",
       "  </thead>\n",
       "  <tbody>\n",
       "    <tr>\n",
       "      <th>0</th>\n",
       "      <td>1</td>\n",
       "      <td>Avatar</td>\n",
       "      <td>2.923706e+09</td>\n",
       "      <td>2009</td>\n",
       "    </tr>\n",
       "    <tr>\n",
       "      <th>1</th>\n",
       "      <td>2</td>\n",
       "      <td>Avengers: Endgame</td>\n",
       "      <td>2.797501e+09</td>\n",
       "      <td>2019</td>\n",
       "    </tr>\n",
       "    <tr>\n",
       "      <th>2</th>\n",
       "      <td>3</td>\n",
       "      <td>Avatar: he Way of Water</td>\n",
       "      <td>2.320250e+09</td>\n",
       "      <td>2022</td>\n",
       "    </tr>\n",
       "    <tr>\n",
       "      <th>3</th>\n",
       "      <td>4</td>\n",
       "      <td>itanic</td>\n",
       "      <td>2.257845e+09</td>\n",
       "      <td>1997</td>\n",
       "    </tr>\n",
       "    <tr>\n",
       "      <th>4</th>\n",
       "      <td>5</td>\n",
       "      <td>Ne Zha 2</td>\n",
       "      <td>2.198880e+09</td>\n",
       "      <td>2025</td>\n",
       "    </tr>\n",
       "  </tbody>\n",
       "</table>\n",
       "</div>"
      ],
      "text/plain": [
       "   Rank                     Film         Gross  Distributor\n",
       "0     1                   Avatar  2.923706e+09         2009\n",
       "1     2        Avengers: Endgame  2.797501e+09         2019\n",
       "2     3  Avatar: he Way of Water  2.320250e+09         2022\n",
       "3     4                   itanic  2.257845e+09         1997\n",
       "4     5                 Ne Zha 2  2.198880e+09         2025"
      ]
     },
     "execution_count": 20,
     "metadata": {},
     "output_type": "execute_result"
    }
   ],
   "source": [
    "df = pd.read_csv(\"highest_grossing_films.csv\")\n",
    "df.head()"
   ]
  },
  {
   "cell_type": "code",
   "execution_count": 22,
   "id": "a1725027-4b68-4926-a333-605dd50f2329",
   "metadata": {},
   "outputs": [],
   "source": [
    "# If the Year column does not exist, add it\n",
    "if \"Year\" not in df.columns:\n",
    "    df[\"Year\"] = None"
   ]
  },
  {
   "cell_type": "code",
   "execution_count": 24,
   "id": "d0d1b66c-0206-44ca-bc92-5500f5358720",
   "metadata": {},
   "outputs": [],
   "source": [
    "#Swap the positions of the Distributor and Year columns (using remove() to rearrange the list of columns)\n",
    "df = df.rename(columns={\"Distributor\": \"Year\", \"Year\": \"Distributor\"})"
   ]
  },
  {
   "cell_type": "code",
   "execution_count": 26,
   "id": "704bf2d4-abba-445c-b71c-dc2434e31be9",
   "metadata": {},
   "outputs": [],
   "source": [
    "# First, convert to string type\n",
    "df[\"Distributor\"] = df[\"Distributor\"].astype(str)"
   ]
  },
  {
   "cell_type": "code",
   "execution_count": 28,
   "id": "891fb09e-07b5-4098-876e-7f309800434c",
   "metadata": {
    "scrolled": true
   },
   "outputs": [],
   "source": [
    "# If the value in the Distributor column is just 4 digits (i.e., given as a year), set it to None\n",
    "df[\"Distributor\"] = df[\"Distributor\"].where(~df[\"Distributor\"].str.contains(r'^\\d{4}$', na=False), None)"
   ]
  },
  {
   "cell_type": "code",
   "execution_count": 30,
   "id": "75ab76ae-80d9-4d0b-b899-048fc2c3c959",
   "metadata": {},
   "outputs": [],
   "source": [
    "df[\"Year\"] = df[\"Year\"].astype(\"Int64\")  # Use Pandas' nullable integer type (Int64) introduced in version 1.0+\n",
    "df[\"Distributor\"] = df[\"Distributor\"].astype(str).str.strip()"
   ]
  },
  {
   "cell_type": "code",
   "execution_count": 32,
   "id": "75e0a6d3-46fa-465c-a7d8-aea592b4186a",
   "metadata": {},
   "outputs": [
    {
     "data": {
      "text/plain": [
       "Index(['Rank', 'Film', 'Gross', 'Year', 'Distributor'], dtype='object')"
      ]
     },
     "execution_count": 32,
     "metadata": {},
     "output_type": "execute_result"
    }
   ],
   "source": [
    "df.columns"
   ]
  },
  {
   "cell_type": "code",
   "execution_count": 34,
   "id": "51d760c8-60ae-4596-ad38-964baaa7d1eb",
   "metadata": {},
   "outputs": [
    {
     "data": {
      "text/html": [
       "<div>\n",
       "<style scoped>\n",
       "    .dataframe tbody tr th:only-of-type {\n",
       "        vertical-align: middle;\n",
       "    }\n",
       "\n",
       "    .dataframe tbody tr th {\n",
       "        vertical-align: top;\n",
       "    }\n",
       "\n",
       "    .dataframe thead th {\n",
       "        text-align: right;\n",
       "    }\n",
       "</style>\n",
       "<table border=\"1\" class=\"dataframe\">\n",
       "  <thead>\n",
       "    <tr style=\"text-align: right;\">\n",
       "      <th></th>\n",
       "      <th>Rank</th>\n",
       "      <th>Film</th>\n",
       "      <th>Gross</th>\n",
       "      <th>Year</th>\n",
       "      <th>Distributor</th>\n",
       "    </tr>\n",
       "  </thead>\n",
       "  <tbody>\n",
       "    <tr>\n",
       "      <th>0</th>\n",
       "      <td>1</td>\n",
       "      <td>Avatar</td>\n",
       "      <td>2.923706e+09</td>\n",
       "      <td>2009</td>\n",
       "      <td>None</td>\n",
       "    </tr>\n",
       "    <tr>\n",
       "      <th>1</th>\n",
       "      <td>2</td>\n",
       "      <td>Avengers: Endgame</td>\n",
       "      <td>2.797501e+09</td>\n",
       "      <td>2019</td>\n",
       "      <td>None</td>\n",
       "    </tr>\n",
       "    <tr>\n",
       "      <th>2</th>\n",
       "      <td>3</td>\n",
       "      <td>Avatar: he Way of Water</td>\n",
       "      <td>2.320250e+09</td>\n",
       "      <td>2022</td>\n",
       "      <td>None</td>\n",
       "    </tr>\n",
       "    <tr>\n",
       "      <th>3</th>\n",
       "      <td>4</td>\n",
       "      <td>itanic</td>\n",
       "      <td>2.257845e+09</td>\n",
       "      <td>1997</td>\n",
       "      <td>None</td>\n",
       "    </tr>\n",
       "    <tr>\n",
       "      <th>4</th>\n",
       "      <td>5</td>\n",
       "      <td>Ne Zha 2</td>\n",
       "      <td>2.198880e+09</td>\n",
       "      <td>2025</td>\n",
       "      <td>None</td>\n",
       "    </tr>\n",
       "  </tbody>\n",
       "</table>\n",
       "</div>"
      ],
      "text/plain": [
       "   Rank                     Film         Gross  Year Distributor\n",
       "0     1                   Avatar  2.923706e+09  2009        None\n",
       "1     2        Avengers: Endgame  2.797501e+09  2019        None\n",
       "2     3  Avatar: he Way of Water  2.320250e+09  2022        None\n",
       "3     4                   itanic  2.257845e+09  1997        None\n",
       "4     5                 Ne Zha 2  2.198880e+09  2025        None"
      ]
     },
     "execution_count": 34,
     "metadata": {},
     "output_type": "execute_result"
    }
   ],
   "source": [
    "df.head()"
   ]
  },
  {
   "cell_type": "code",
   "execution_count": 36,
   "id": "b3587d67-b9d9-4e5b-a744-3ff15dd40d7d",
   "metadata": {},
   "outputs": [],
   "source": [
    "df.dropna(subset=[\"Film\", \"Gross\"], inplace=True)"
   ]
  },
  {
   "cell_type": "code",
   "execution_count": 38,
   "id": "c62f7d97-8957-4268-b102-9f4804aa5abb",
   "metadata": {},
   "outputs": [
    {
     "data": {
      "text/plain": [
       "Rank           0\n",
       "Film           0\n",
       "Gross          0\n",
       "Year           0\n",
       "Distributor    0\n",
       "dtype: int64"
      ]
     },
     "execution_count": 38,
     "metadata": {},
     "output_type": "execute_result"
    }
   ],
   "source": [
    "df.isnull().sum()"
   ]
  },
  {
   "cell_type": "code",
   "execution_count": 40,
   "id": "ae3d8973-4ddc-48f4-8239-8a446b1f3ce2",
   "metadata": {},
   "outputs": [
    {
     "data": {
      "text/plain": [
       "Rank             int64\n",
       "Film            object\n",
       "Gross          float64\n",
       "Year             Int64\n",
       "Distributor     object\n",
       "dtype: object"
      ]
     },
     "execution_count": 40,
     "metadata": {},
     "output_type": "execute_result"
    }
   ],
   "source": [
    "df.dtypes"
   ]
  },
  {
   "cell_type": "code",
   "execution_count": 42,
   "id": "581482c7-ca64-45cb-b62e-632e5ccace3b",
   "metadata": {},
   "outputs": [],
   "source": [
    "df[\"Gross\"] = df[\"Gross\"].replace(r\"[^\\d.]\", \"\", regex=True).astype(float)"
   ]
  },
  {
   "cell_type": "code",
   "execution_count": 44,
   "id": "f0cc8012-2efb-4c07-bc35-755a983bf727",
   "metadata": {},
   "outputs": [],
   "source": [
    "# Display the values in a readable format (for print only)\n",
    "pd.options.display.float_format = '{:,.0f}'.format"
   ]
  },
  {
   "cell_type": "code",
   "execution_count": 46,
   "id": "e40f2a0d-a30c-448d-bbf8-5f8f7539cc72",
   "metadata": {},
   "outputs": [
    {
     "data": {
      "text/plain": [
       "Rank             int64\n",
       "Film            object\n",
       "Gross          float64\n",
       "Year             Int64\n",
       "Distributor     object\n",
       "dtype: object"
      ]
     },
     "execution_count": 46,
     "metadata": {},
     "output_type": "execute_result"
    }
   ],
   "source": [
    "df.dtypes"
   ]
  },
  {
   "cell_type": "code",
   "execution_count": 48,
   "id": "3d753416-ef08-4591-b0a8-4b78fc06699c",
   "metadata": {},
   "outputs": [],
   "source": [
    "df.Film = df.Film.str.replace(r\"[†\\$SMT]+\", \"\", regex=True).str.strip()"
   ]
  },
  {
   "cell_type": "code",
   "execution_count": 50,
   "id": "374430f5-9609-4074-8f30-d8dc3c42bc30",
   "metadata": {},
   "outputs": [
    {
     "data": {
      "text/html": [
       "<div>\n",
       "<style scoped>\n",
       "    .dataframe tbody tr th:only-of-type {\n",
       "        vertical-align: middle;\n",
       "    }\n",
       "\n",
       "    .dataframe tbody tr th {\n",
       "        vertical-align: top;\n",
       "    }\n",
       "\n",
       "    .dataframe thead th {\n",
       "        text-align: right;\n",
       "    }\n",
       "</style>\n",
       "<table border=\"1\" class=\"dataframe\">\n",
       "  <thead>\n",
       "    <tr style=\"text-align: right;\">\n",
       "      <th></th>\n",
       "      <th>Rank</th>\n",
       "      <th>Film</th>\n",
       "      <th>Gross</th>\n",
       "      <th>Year</th>\n",
       "      <th>Distributor</th>\n",
       "    </tr>\n",
       "  </thead>\n",
       "  <tbody>\n",
       "    <tr>\n",
       "      <th>0</th>\n",
       "      <td>1</td>\n",
       "      <td>Avatar</td>\n",
       "      <td>2,923,706,026</td>\n",
       "      <td>2009</td>\n",
       "      <td>None</td>\n",
       "    </tr>\n",
       "    <tr>\n",
       "      <th>1</th>\n",
       "      <td>2</td>\n",
       "      <td>Avengers: Endgame</td>\n",
       "      <td>2,797,501,328</td>\n",
       "      <td>2019</td>\n",
       "      <td>None</td>\n",
       "    </tr>\n",
       "    <tr>\n",
       "      <th>2</th>\n",
       "      <td>3</td>\n",
       "      <td>Avatar: he Way of Water</td>\n",
       "      <td>2,320,250,281</td>\n",
       "      <td>2022</td>\n",
       "      <td>None</td>\n",
       "    </tr>\n",
       "    <tr>\n",
       "      <th>3</th>\n",
       "      <td>4</td>\n",
       "      <td>itanic</td>\n",
       "      <td>2,257,844,554</td>\n",
       "      <td>1997</td>\n",
       "      <td>None</td>\n",
       "    </tr>\n",
       "    <tr>\n",
       "      <th>4</th>\n",
       "      <td>5</td>\n",
       "      <td>Ne Zha 2</td>\n",
       "      <td>2,198,880,000</td>\n",
       "      <td>2025</td>\n",
       "      <td>None</td>\n",
       "    </tr>\n",
       "  </tbody>\n",
       "</table>\n",
       "</div>"
      ],
      "text/plain": [
       "   Rank                     Film         Gross  Year Distributor\n",
       "0     1                   Avatar 2,923,706,026  2009        None\n",
       "1     2        Avengers: Endgame 2,797,501,328  2019        None\n",
       "2     3  Avatar: he Way of Water 2,320,250,281  2022        None\n",
       "3     4                   itanic 2,257,844,554  1997        None\n",
       "4     5                 Ne Zha 2 2,198,880,000  2025        None"
      ]
     },
     "execution_count": 50,
     "metadata": {},
     "output_type": "execute_result"
    }
   ],
   "source": [
    "df.head()"
   ]
  },
  {
   "cell_type": "code",
   "execution_count": 53,
   "id": "d8c8898d-0c99-4b3a-8af0-a8887697a257",
   "metadata": {},
   "outputs": [],
   "source": [
    "df=df.drop(columns=['Distributor'])"
   ]
  },
  {
   "cell_type": "code",
   "execution_count": 57,
   "id": "df191f08-2a50-40e9-8c95-eb1ed3ffe12e",
   "metadata": {},
   "outputs": [],
   "source": [
    "conn = sqlite3.connect(\"films.db\")\n",
    "df.to_sql(\"films\", conn, if_exists=\"replace\", index=False)\n",
    "conn.close()\n"
   ]
  },
  {
   "cell_type": "code",
   "execution_count": null,
   "id": "0e631678-1da9-4351-be0c-f9bc03b56957",
   "metadata": {},
   "outputs": [],
   "source": [
    "df.to_csv('highest_grossing_films.csv', index=False)\n"
   ]
  },
  {
   "cell_type": "code",
   "execution_count": null,
   "id": "85cf7a42-fc1d-46da-af1f-d76b398bf2f3",
   "metadata": {},
   "outputs": [],
   "source": []
  }
 ],
 "metadata": {
  "kernelspec": {
   "display_name": "Python 3 (ipykernel)",
   "language": "python",
   "name": "python3"
  },
  "language_info": {
   "codemirror_mode": {
    "name": "ipython",
    "version": 3
   },
   "file_extension": ".py",
   "mimetype": "text/x-python",
   "name": "python",
   "nbconvert_exporter": "python",
   "pygments_lexer": "ipython3",
   "version": "3.12.4"
  }
 },
 "nbformat": 4,
 "nbformat_minor": 5
}
